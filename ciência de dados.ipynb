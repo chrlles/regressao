{
 "cells": [
  {
   "cell_type": "markdown",
   "id": "108ef1ab",
   "metadata": {},
   "source": [
    "## Python - ciência de dados"
   ]
  },
  {
   "cell_type": "code",
   "execution_count": 10,
   "id": "1369bfe9",
   "metadata": {},
   "outputs": [],
   "source": [
    "import matplotlib.pyplot as plt\n",
    "from sklearn.linear_model import LinearRegression\n",
    "import pandas as pd"
   ]
  },
  {
   "cell_type": "code",
   "execution_count": 11,
   "id": "f8441c1e",
   "metadata": {},
   "outputs": [
    {
     "data": {
      "text/html": [
       "<div>\n",
       "<style scoped>\n",
       "    .dataframe tbody tr th:only-of-type {\n",
       "        vertical-align: middle;\n",
       "    }\n",
       "\n",
       "    .dataframe tbody tr th {\n",
       "        vertical-align: top;\n",
       "    }\n",
       "\n",
       "    .dataframe thead th {\n",
       "        text-align: right;\n",
       "    }\n",
       "</style>\n",
       "<table border=\"1\" class=\"dataframe\">\n",
       "  <thead>\n",
       "    <tr style=\"text-align: right;\">\n",
       "      <th></th>\n",
       "      <th>ano</th>\n",
       "      <th>casos</th>\n",
       "    </tr>\n",
       "  </thead>\n",
       "  <tbody>\n",
       "    <tr>\n",
       "      <th>0</th>\n",
       "      <td>2017</td>\n",
       "      <td>450</td>\n",
       "    </tr>\n",
       "    <tr>\n",
       "      <th>1</th>\n",
       "      <td>2016</td>\n",
       "      <td>538</td>\n",
       "    </tr>\n",
       "    <tr>\n",
       "      <th>2</th>\n",
       "      <td>2015</td>\n",
       "      <td>269</td>\n",
       "    </tr>\n",
       "    <tr>\n",
       "      <th>3</th>\n",
       "      <td>2014</td>\n",
       "      <td>56</td>\n",
       "    </tr>\n",
       "    <tr>\n",
       "      <th>4</th>\n",
       "      <td>2013</td>\n",
       "      <td>165</td>\n",
       "    </tr>\n",
       "  </tbody>\n",
       "</table>\n",
       "</div>"
      ],
      "text/plain": [
       "    ano  casos\n",
       "0  2017    450\n",
       "1  2016    538\n",
       "2  2015    269\n",
       "3  2014     56\n",
       "4  2013    165"
      ]
     },
     "execution_count": 11,
     "metadata": {},
     "output_type": "execute_result"
    }
   ],
   "source": [
    "arquivo = pd.read_csv(\"dados_dengue.csv\")\n",
    "arquivo.head()"
   ]
  },
  {
   "cell_type": "code",
   "execution_count": 12,
   "id": "507a539a",
   "metadata": {},
   "outputs": [],
   "source": [
    "anos = arquivo[['ano']]\n",
    "casos = arquivo[['casos']]"
   ]
  },
  {
   "cell_type": "code",
   "execution_count": 14,
   "id": "047c50b9",
   "metadata": {},
   "outputs": [
    {
     "name": "stdout",
     "output_type": "stream",
     "text": [
      "Casos previstos para 2018 -> 330\n"
     ]
    }
   ],
   "source": [
    "# Mineração\n",
    "\n",
    "regr = LinearRegression()\n",
    "regr.fit(X=anos, y=casos)\n",
    "\n",
    "ano_futuro = [[2018]]\n",
    "casos_2018 = regr.predict(ano_futuro)\n",
    "\n",
    "print('Casos previstos para 2018 ->', int(casos_2018))"
   ]
  },
  {
   "cell_type": "code",
   "execution_count": 15,
   "id": "2b3f86b5",
   "metadata": {},
   "outputs": [
    {
     "data": {
      "image/png": "iVBORw0KGgoAAAANSUhEUgAAAYUAAAEGCAYAAACKB4k+AAAAOXRFWHRTb2Z0d2FyZQBNYXRwbG90bGliIHZlcnNpb24zLjMuNCwgaHR0cHM6Ly9tYXRwbG90bGliLm9yZy8QVMy6AAAACXBIWXMAAAsTAAALEwEAmpwYAAAe5ElEQVR4nO3deXzU5bXH8c+JAho3UHEBzYwrWLVFjaV1rViFKgquFae2UiUuaFvty+utaa1Vc9tavbY1KEYUtQx6sbgXbat1t2pBBZdSASEpIqIiiwQQyLl/PMOPpVkmYSa/meT7fr3mlcxvFk6A5OR5zvOcx9wdERERgJK4AxARkcKhpCAiIhElBRERiSgpiIhIRElBREQim8cdwKbYcccdPZlMxh2GiEhRmTJlyifu3rOxx4o6KSSTSSZPnhx3GCIiRcXMapt6TNNHIiISUVIQEZGIkoKIiESUFEREJKKkICIiESUFEZFmpNNpkskkJSUlJJNJ0ul03CHlVVEvSRURyad0Ok1FRQX19fUA1NbWUlFRAUAqlYoztLzRSEFEpAmVlZVRQlirvr6eysrKmCLKPyUFEZEm1NXVtep6R6CkICLShLKyslZd7wiUFEREmlBVVUVpaekG10pLS6mqqoopovxTUhARaUIqlaKmpoZEIoGZkUgkqKmp6bBFZgAr5jOay8vLXQ3xRERax8ymuHt5Y49ppCAiIhElBRERiSgpiIhIRElBREQiSgoiIhJRUhARkYiSgoiIRJQUREQkoqQgIiIRJQUREYkoKYiISERJQUREIkoKIiISUVIQEZGIkoKIiESUFEREJKKkICIiESUFERGJKCmIiEhESUFERCJKCiIiElFSEBGRiJKCiEg7SKfTJJNJSkpKSCaTpNPpuENq1OZxByAi0tGl02kqKiqor68HoLa2loqKCgBSqVScof0HjRRERPKssrIySghr1dfXU1lZGVNETVNSEBHJs7q6ulZdj5OSgohInpWVlbXqepyUFERE8qyqqorS0tINrpWWllJVVRVTRE1TUhARybNUKkVNTQ2JRAIzI5FIUFNTU3BFZgBz97hjaLPy8nKfPHly3GGIiBQVM5vi7uWNPaaRgoiIRJQUREQkoqQgIiIRJQUREYkoKYiISERJQUREIkoKIiISUVIQEZGIkoKIiESUFEREJKKkICIiESUFERGJKCmIiEhESUFERCJKCiIiElFSEBGRiJKCiIhElBRERCSipCAiIhElBRERiSgpiIhIRElBREQiSgoiIhLJKimY2RFmNjzzeU8z2yO/YYmISBxaTApm9nPgSuAnmUtdgHH5DEpEROKRzUjhFOBkYBmAu88DtslnUCIiEo9sksIX7u6AA5jZVvkNSURE4pJNUphgZrcD3c1sBPAUcEd+wxIRkThs3tIT3P1GMzsOWAL0Aa5297/mPTIREWl3LSYFgEwSUCIQEengWkwKZraUTD0B6EpYfbTM3bfNZ2AiItL+spk+2mClkZkNBb6ar4BERCQ+rd7R7O4PAwNaep6ZbWFmr5nZVDN7x8x+kbl+nZlNM7M3zewvZtZrvdf8xMxmmtm/zGxga2MTEenw0mlIJqGkJHxMp3P69tlMH5263t0SoJx100nNWQkMcPfPzawL8KKZPQH8xt1/lnnvHwBXAxea2ZeAs4D9gV7AU2a2r7uvadVXJCLSUaXTUFEB9fXhfm1tuA+QSuXkj8hmpHDSereBwFJgSEsv8uDzzN0umZu7+5L1nrYV6xLMEOB+d1/p7rOBmWiaSkRkncrKdQlhrfr6cD1HsqkpDG/rm5vZZsAUYG9glLu/mrleBXwXWAwck3l6b+CV9V4+N3Nt4/esACoAysrK2hqaiEjxqatr3fU2yGb66PeNXF4MTHb3R5p7bWbqp5+ZdQceMrMD3P1td68EKs3sJ8AlwM8Ba+wtGnnPGqAGoLy8PJtpLBGRjqGsLEwZNXY9R7KZPtoC6AfMyNy+DGwPnGdmv83mD3H3RcCzwKCNHhoPnJb5fC6w+3qP7QbMy+b9RUQ6haoqKC3d8FppabieI9kkhb0JBeNb3P0W4JvAfoRGecc39aJMi+3umc+3zLxuupnts97TTgamZz5/FDjLzLplWnPvA7zWyq9HRKTjSqWgpgYSCTALH2tqclZkhux2NPcmFIQXZ+5vBfRy9zVmtrKZ1+0K3JOpK5QAE9z9cTObaGZ9gAagFrgQwN3fMbMJwLvAamCkVh6JiGwklcppEthYNknhBuBNM3uWMO9/FPA/mW6pTzX1InefBhzUyPXTGnn62seqgNyNg0REpFWyWX10p5lNIiwPNeCqzJkKAFfkMzgRkY7kww9h/nw46D9+XS4c2e5oLgE+BhYCe5vZUfkLSUSk43CHF1+EYcPCIqERI+KOqHnZLEn9NfBt4B1CHQDCUtHn8xiXiEhRq6+H8eOhuhqmToXttoNLL4WLLoo7suZlU1MYCvRx9+aKyiIiAsycCbfdBnfdBYsWwZe/HBYInX02bFUE51ZmkxTeJ7SoUFIQEWlEQwM88QSMGhU+br45nHYaXHIJHH54WD1aLLJJCvWE1UdPs15icPcf5C0qEZEisHAhjB0Lt94K778Pu+4K11wTetTtumvc0bVNNknh0cxNRESAN94Io4J0GlasgCOPhF/+Ek45Bbp0iTu6TZPNktR7MjuSy9z9X+0Qk4hIwfniC5g4MRSOX345dJf47ndh5MhQN+goWlySamYnAW8CT2bu9zMzjRxEpFP44AO4+uqwnPTss2HBArj55nD99ts7VkKA7KaPriFsXHsWwN3fzPQmEhHpkNzh+efDqOChh0Ih+cQTQ+H4uOPCoWcdVTZJYbW7L7YNy+dqWS0iHc7nn8O4cSEZvPMObL89XH552FuwRyf5VTibpPC2mZ0NbJbpcPoD4OX8hiUi0n7+9a+wgujuu2HJEjj44LDP4KyzYMst446ufWUzCLqUcG7ySuA+YAnwozzGJCKyydLpNMlkkpKSEpLJJOmNDrhfswYefRSOPx769g0bzk46Cf7+d5g8GYYP73wJAbJbfVQPVGZuIiIFL51OU1FRQX3mPOPa2loqMgfcDxyY4s47QxKorYXeveH66+H882HnneOMujA0mRTM7DGaqR24+8l5iUhEZBNVVlZGCWGt+vr9uOCCbqxeDStXwjHHwE03wZAhYQeyBM39VdyY+XgqsAswLnN/GDAnjzGJiGySuugg+67AmYSj4PuzbNnnXHwxXHwx7L9/fPEVsiaTgrs/B2Bm17n7+q2yHzMzdUgVkYLVq9fX+OCDwcAIoCfh1N9L2X33Zxk16q14gytw2QyaeprZnu7+PkBmj0LP/IYlItI67vC3v4XlpPPmvUiY/X4UGAU8TWlpKb/8ZU28QRaBbJLCZcCzZvZ+5n4SqMhbRCIirbBkCdx7b+hFNH067LgjXHllCbvs8jA333wZdXV1lJUlqKqqIpXHs407CnNveR+amXUD+mbuTi+UsxXKy8t98uTJcYchIjF4992QCO69N2w6++pXQx+iM8+ELbaIO7rCZmZT3L28sceyqrlnksDUnEYlItJKq1eHvQXV1fDMM9CtW9hgNnIkHHpo3NF1DFqIJSIFb8ECuOMOGD0a5s4Nzel+9Ss477wwXSS5o6QgIgXJHV59NYwKHnggtK4+7rhwf/Bg2GyzuCPsmFpMChY64aWAPd39WjMrA3Zx99fyHp2IdDrLl8P994d6wZQpsM02cMEFYW9B374tv142TTYjhVuBBmAAcC2wFJgIaAZPRHJm9uzQeuLOO8Mxl1/6UmhS953vhMQg7SObpNDf3Q82szcA3P0zM+ua57hEpBNoaIC//jVMCf3pT+GcgqFDw7kFRx9dXAfedxTZJIVVZrYZmT5IZtaTMHIQEWmTRYtCm+pRo2DmTNhpJ6isDNNEu+0Wd3SdWzZJ4ffAQ8BOZlYFnA78NK9RiUiHNG1aSATjxkF9PRx2GPziF3DaaWF5qcQvm9bZaTObAhwLGDDU3f+Z98hEpENYtSocaVldDS+8EDaWpVJhb8FBB8UdnWysudbZ2693dwHhgJ3oMXdfmM/ARKS4ffgh1NSEw+0//DAcZ/mb38D3vx+OuZTC1NxIYQqhjmBAGfBZ5vPuQB3QSU4sFZFsucNLL4VRwcSJYQfyoEFh49mgQdpbUAyaa529B4CZjQYedfdJmfvfAr7ZPuGJSDFYtgzGjw/JYNo06N4dLr00HHi/zz5xRyetkU2h+VB3v3DtHXd/wsyuy2NMIlIkZs4MewnuugsWL4avfCVMGZ19Nmy1VdzRSVtkkxQ+MbOfEk5ec+A7wKd5jUpECtaaNfDkk2FU8OST4SjL008PhePDD9fegmKXTVIYBvycsCzVgecz10SkE1m4MIwIbr017D7edVe45hqoqAifS8eQzZLUhcAP2yEWESlAr78e9haMHw8rVsBRR4UOpaecAl26xB2d5Jq6pIrIf1i5Ev74x5AM/v53KC2F7343TBF9+ctxRyf5pKQgIpG5c8O+gpqacIbB3nvDzTfDueeGFUXS8SkpiHRy7vDss2FU8PDDoUndiSeGpnTHHRea1Enn0eI/t5ndYGbbmlkXM3vazD4xs++0R3Aikj9Ll4ai8QEHwIAB4XjLyy+HWbPgscdg4EAlhM4om3/y4919CTAYmAvsC1yR16hEJG+mTw8by3r3DjWCLbYIq4rmzoUbbgjtKKTzymb6aO36ghOA+9x9oWkhskhRWb0aHn88TBE99VRYNXTmmWGKqH9/7S2QdbJJCo+Z2XRgOXBx5jyFFfkNS0Ry4eOPw0lmt90GdXXhrILrr4fzz4edd447OilE2exT+G8z+zWwxN3XmNkyYEj+QxORtnrttTAquP/+cOD9gAFhFdHJJ4cdyCJNafG/h5l1Ac4BjspMGz0HjM5zXCLSSitWwIQJof3EP/4BW28dRgQjR4bzjkWykc3vDLcR6gq3Zu6fk7l2fr6CEpHs1dbC6NEwZgx88gn07Qu33BI2m227bdzRSbHJtkvqV9a7/zczm5qvgESkZe7w9NNhVPDYY+HaySeHwvGAASocS9tlsyR1jZnttfaOme0JrMlfSCLSlCVLwihgv/3CxrKXXoIrrwwN6h56CI49Nr6EkE6nSSaTlJSUkEwmSafT8QQimySbkcIVwDNm9j7h5LUEMDyvUYnIBt55JxSO7703HGjTv3/4/Iwzwj6DuKXTaSoqKqivrwegtraWiooKAFKpVJyhSSuZu7f8JLNuQB9CUpju7ivzHVg2ysvLffLkyXGHIZIXq1bBI4+EZPDss9CtGwwbFgrH5eVxR7ehZDJJbW3tf1xPJBLMmTOn/QOSZpnZFHdv9H9RNm0uzgC6uvs04CTgPjM7OMcxikjGRx+FvQR77BFGArNnh1bVc+fC2LEbJoRCmbKpq6tr1XUpXNlMH/3M3R8wsyOAgcCNhNVH/fMamUgn4g6vvBIKxw88EEYJxx8fehOdeGLjB94X0pRNWVlZoyOFsrKydo1DNl1WhebMxxOB29z9EaBr/kIS6TyWLw99hw45BA47LLSiuOii0J/oz38OK4oaSwgAlZWVUUJYq76+nsrKynaIfENVVVWUlpZucK20tJSqqqp2j0U2TTZJ4QMzux04E5iUqS+od6LIJnj/fbjiitCU7rzzwsjgttvggw/gd7+DPn1afo9CmrJJpVLU1NSQSCQwMxKJBDU1NSoyF6EWC81mVgoMAt5y9xlmtitwoLv/pT0CbI4KzVJMGhrCb/+jRsGkSaEt9amnhsLxUUe1fimpirvSVptUaHb3end/EFhsZmWE3c3TcxyjSIf12Weh71CfPnDCCTB5Mvz0p2En8oQJcPTRbdtboCkbyYdsVh+dbGYzgNmEvkezgSfyHZhIsZs6FSoqwhTR5ZeHrqTjx4dupddeG65vCk3ZSD5kM300FRgAPOXuB5nZMcAwd69ojwCbo+kjKTRffBF2FldXw4svwpZbQioVpoj69Ys7OpGguemjbJakrnL3T82sxMxK3P2ZTCttEcmYNy8cdn/77TB/Puy5J9x0EwwfDj16xB2dSPaySQqLzGxr4HkgbWYLgNX5DUuk8LmH0UB1NTz4IKxZA9/6VhgVDBqk842lOGWTFIYQTl27DEgB2wHX5jMokUK2bBmk0yEZvPUWdO8OP/xh2F+w114tvlykoDWZFMxsb2Bnd38pc6kBuMfMjgK6A5/mPzyRwjFjRthhPHYsLF4cagRjxoR+RBstAhIpWs0NcH8LLG3ken3mMZEOb82asMt40CDYd98wOjjhhDBt9PrrYeOZEoJ0JM1NHyUzTfA24O6TzSyZv5BE4vfpp6H9xK23wpw50KtXWEY6YgTsskvc0YnkT3NJobku7VvmOhCRQvD662E0cN994czjo4+GG26AoUOhS5e4oxPJv+aSwj/MbIS737H+RTM7D5iS37BE2s/KlfDHP4Zk8MorYTro3HPh4ovhwAPjjk6kfTWXFH4EPGRmKdYlgXJCh9RT8hyXSN79+99hX8Edd8CCBbDPPvDb38L3vhdWFIl0Rk0mBXf/CDgss4P5gMzlP7n739olMpE8cA+nmFVXh1PNGhpg8OBw4P03v6m9BSLZNMR7xt1vydyUEKQoLV0aisYHHAADBoTE8OMfw6xZ8Oij4UCb9kwIhXJimsjGstm8JlK0pk8PrarvuSckhoMPDvsMvv3t0JcoDoV0YprIxlpsiFfI1BBPGrN6ddhbUF0NTz8NXbvCmWeG9hP9+7etTXUu6RwEidumNsQTKQoffxx2GN92Wygi77YbVFXB+efDTjvFHd06hXRimsjGlBSk6L32WhgV/N//hdbVAwaEIy1POgk2L8D/4TrkXgqZ1lpIUVqxItQJDj00TAk99FDYbfzOO2HK6JRT8pMQclEg1olpUtDcvWhvhxxyiEvnMnu2+5VXuu+wgzu49+3rXl3tvnhx/v/scePGeWlpqQPRrbS01MeNG9em90okEm5mnkgk2vQeIm0FTPYmfq6q0CwFr6Eh/PZfXR0KyABDhoS9Bccc036FYxWIpaNQoVmK0uLFcOmlk7nvvh6sXr0XJSWfMHjwfG655QDimH5XgVg6A9UUpOC8/XY4sGbnnVfxhz+Us3r1x8A5NDT05qmn+vPCC/Fs9GqqEKwCsXQkSgpSEFatCk3pvvGN0IRu7FjYfPOHCe22vg6MA76gvr6eysrKWGJUgVg6AyUFidX8+XDddbDHHnDGGVBbC7/+NcydC/X136axhrxxTdekUilqampIJBKYGYlEgpqaGu1Clg5FSUHyormlm+7w8suQSkFZGVx9Ney/f+hBNHMm/Nd/wY47FuZ0TSqVYs6cOTQ0NDBnzhwlBOlwVGiWnGuqt8/KlZvhfhajRsEbb8C224YzCy6+OBx1ubGqqqoN3gc0XSOSb0oKknOVlZUb/CCHPamvv4gRIwbR0BA6lY4eHUYKW2/d9Pus/S28srKSuro6ysrKqKqq0m/nInmk6SPZQC527IY5fwMGAY8BM4Af0dDwF557DqZNgwsuaD4hrKXpms5HbcVj1tSutmK4aUdzbuVix+7Che49elzrMMND9eBDh2scenkikchf8NIh5HLXuDQN7WiWbGzKjt2pU8OO43Qali+HkpKXaWj4PfAgsIrS0lKt1JEWadd4+2huR7OmjyTS2h27X3wB998PRx4J/fqFhJBKhSLyvffOJpF4BbPVWropWdOu8fip0CyRbFs6z5sHNTXh0Pv582HPPeGmm2D4cOjRIzynX7+UkoC0mtqKx08jBYk0t2PXHZ5/PhxjmUjAtdeGoy0nTYIZM+Dyy9clhEKk4mVx0K7xAtBUsaEYbio0r5OrVswbv8+YMff76NHuBx4YWlV37+7+4x+7z5yZ4y8gj1S8LC5qK55/qNDcsW28WQzY5MLue+/BrbfC3XeHbqX9+oVW1cOGwUa/yBU8FS9FNtRcoVlJoQPI1Q+9NWvCdNCoUfDnP0OXLnD66SEZfP3r8R9431YlJSU09v/czGhoaIghIpF46TyFDm5TV2x8+inceWc48H7OHOjVC37xC6iogF12yWGgMVHxUiR7nbLQ3NGKjm1tHDdlSlgxtNtucOWVoYD8wAMhMVx9dcdICKDiZUs62veDbKKmig3FcGtLobnQio65KKq15mtascL9D39w798/FI632sr9wgvd33orF19N4VLxsnGF9v0g7YNmCs2x/2DflFtbkkIikdjgG2DtLY4WDO15EHxdnftVV7n37Bn+1ffd1/13v3NftChXX40Uo0L6fpD201xS6HSF5kIqOuZ7VYw7PPNMKBw//HC4NnhwKBwfeyyUdMrJQ1lfIX0/SPtRm4v15Orgltx1E83+eraWLg2JYP/9ww//556DK66AWbPgkUfguOOUECQoxIOMJGZNDSGK4RZXTSFX0z65Hrq/+677yJHu22wTpojKy93vvtt9+fI2vZ10AqopdE6oprChTS065uqHeS6+IVetcn/wQfcBA8K/Zteu7uec4/7qq60KRToxFeE7n+aSQqerKeRCLudh0+l0m04WW7AAxowJJ5j9+9+w++5w0UVw/vnQs2erQhCRTkY7mnMsrrYJ7vDaa+HcggkTQuvqY48NhePBg2FzbUUUkSyo0Jxj7b0Zavny0IPo0EPha18LxeKKCnj3XXjqKRg6VAlBRHJDP0raoL0OlJ8zJ7SeGDMGFi6E/fYLq4rOOQe22Sanf5SICKDpo4LT0BB++6+uhscfD0tHhwwJU0Tf+EbxNqUTkcKhhnhFYNEiuOeeMBKYMSMUi6+6Ci64IBSRRUTag5JCzN56KySCceNg2bJQM/j5z0PL6m7d4o5ORDobJYUYrFoV2k5UV4cjLrt1C4fXXHIJHHJI3NGJSGempNCO5s9fd+D9vHmQTMINN8D3vw877BB3dCIiSgp55w4vvxxGBRMnhlHCwIFh09kJJ8Bmm8UdoYjIOkoKeVJfD+PHh2QwdSpstx2MHBl2He+7b9zRiYg0Tkkhx2bNCgfe33VXWFF04IFhVJBKwdZbxx2diEjzlBRyoKEBnnwyrCJ64omwt+DUU0Ph+MgjtbdARIqHksIm+OwzGDs2jAxmzQpnGv/sZ6EFRe/ecUcnItJ6Sgpt8OabYVSQToe+REccAddfH0YHXbvGHZ2ISNspKWTpiy/C6qFRo+Cll2DLLUOdYORI6Ncv7uhERHJDSaEFH3ywbm/BRx/BXnvBTTfB8OHQo0fc0YmI5JaSQiPc4YUXwnLSBx8MheQTTgijgoEDdb6xiHRcSgrr+fzzUCeoroa33w4jgcsuC3sL9twz7uhERPJPSQF4772wgmjsWFiyJNQI7rwTzjoLNjpLR0SkQ+u0SWHNGpg0KYwK/vIX6NIFzjgjTBF9/evaWyAinVOnTAr/+AeceWY42ax3b7juOhgxAnbeOe7IRETi1SmTwl57QZ8+cOONcPLJYZQgIiKdNClsv31oSyEiIhvS4koREYkoKYiISERJQUREIkoKIiISUVIQEZGIkoKIiESUFEREJKKkICIiEXP3uGNoMzP7GKiNOw4RkRjsCHzSxtcm3L1nYw8UdVIQEemszGyyu5fn+n01fSQiIhElBRERiSgpiIgUp5p8vKlqCiIiEtFIQUREIkoKIiISUVIQESkAZra7mT1jZv80s3fM7IeZ69ub2V/NbEbmY4/M9R0yz//czKo3eq9hZvaWmU0zsyfNbMes41BNQUQkfma2K7Cru79uZtsAU4ChwLnAQnf/lZn9N9DD3a80s62Ag4ADgAPc/ZLM+2wOzAO+5O6fmNkNQL27X5NNHBopiIgUAHf/0N1fz3y+FPgn0BsYAtyTedo9hESBuy9z9xeBFRu9lWVuW5mZAdsSkkRWOuUZzSIihczMkoRRwKvAzu7+IYTEYWY7Nfdad19lZhcBbwHLgBnAyGz/bI0UREQKiJltDUwEfuTuS9rw+i7ARYSk0guYBvwk29crKYiIFIjMD/SJQNrdH8xc/ihTb1hbd1jQwtv0A3D3WR6KxhOAw7KNQUlBRKQAZOb/7wT+6e7/u95DjwLfy3z+PeCRFt7qA+BLZra2C+pxhPpEdnFo9ZGISPzM7AjgBUItoCFz+SpCXWECUAbUAWe4+8LMa+YQCsldgUXA8e7+rpldCPwQWEU4XuBcd/80qziUFEREZC1NH4mISERJQUREIkoKIiISUVIQEZGIkoKIiESUFERaycxOMTM3s75xxyKSa0oKIq03DHgROCvuQERyTUlBpBUyfWkOB84jkxTM7Btm9qyZ/dHMpptZOrM7FTM71szeyPS2v8vMumWu/8rM3s30u78xti9IZCPqkirSOkOBJ939PTNbaGYHZ64fBOxPaFH8EnC4mU0G7gaOzTz/XuCizMdTgL7u7mbWvb2/CJGmaKQg0jrDgPszn9+fuQ/wmrvPdfcG4E0gCfQBZrv7e5nn3AMcBSwh9MAfY2anAvXtE7pIyzRSEMmSme0ADAAOMDMHNgMcmASsXO+pawjfW9bY+7j7ajP7KnAsYQrqksz7isROIwWR7J0O3OvuCXdPuvvuwGzgiCaePx1ImtnemfvnAM9l6hLbufsk4EdkWh2LFAIlBZHsDQMe2ujaRODsxp7s7iuA4cADZra28+VoYBvgcTObBjwHXJa3iEVaSV1SRUQkopGCiIhElBRERCSipCAiIhElBRERiSgpiIhIRElBREQiSgoiIhL5f05y2TPxuwcRAAAAAElFTkSuQmCC\n",
      "text/plain": [
       "<Figure size 432x288 with 1 Axes>"
      ]
     },
     "metadata": {
      "needs_background": "light"
     },
     "output_type": "display_data"
    }
   ],
   "source": [
    "# Pós-processamento\n",
    "\n",
    "plt.scatter(anos, casos, color='black')\n",
    "plt.scatter(ano_futuro, casos_2018, color='red')\n",
    "plt.plot(anos, regr.predict(anos), color='blue')\n",
    "\n",
    "plt.xlabel('Anos')\n",
    "plt.ylabel('Casos de dengue')\n",
    "plt.xticks([2018])\n",
    "plt.yticks([int(casos_2018)])\n",
    "\n",
    "plt.show()"
   ]
  },
  {

   

